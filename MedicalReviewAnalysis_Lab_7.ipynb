{
  "cells": [
    {
      "cell_type": "code",
      "execution_count": null,
      "id": "34aa60d2",
      "metadata": {
        "_cell_guid": "b1076dfc-b9ad-4769-8c92-a6c4dae69d19",
        "_uuid": "8f2839f25d086af736a60e9eeb907d3b93b6e0e5",
        "execution": {
          "iopub.execute_input": "2023-10-17T03:32:13.702837Z",
          "iopub.status.busy": "2023-10-17T03:32:13.702023Z",
          "iopub.status.idle": "2023-10-17T03:32:21.836486Z",
          "shell.execute_reply": "2023-10-17T03:32:21.835642Z"
        },
        "papermill": {
          "duration": 8.143393,
          "end_time": "2023-10-17T03:32:21.838784",
          "exception": false,
          "start_time": "2023-10-17T03:32:13.695391",
          "status": "completed"
        },
        "tags": [],
        "id": "34aa60d2"
      },
      "outputs": [],
      "source": [
        "import pandas as pd\n",
        "import numpy as np\n",
        "import matplotlib.pyplot as plt\n",
        "import tensorflow as tf"
      ]
    },
    {
      "cell_type": "code",
      "execution_count": null,
      "id": "a055f177",
      "metadata": {
        "execution": {
          "iopub.execute_input": "2023-10-17T03:32:21.850288Z",
          "iopub.status.busy": "2023-10-17T03:32:21.849199Z",
          "iopub.status.idle": "2023-10-17T03:32:22.605718Z",
          "shell.execute_reply": "2023-10-17T03:32:22.604662Z"
        },
        "papermill": {
          "duration": 0.764417,
          "end_time": "2023-10-17T03:32:22.607943",
          "exception": false,
          "start_time": "2023-10-17T03:32:21.843526",
          "status": "completed"
        },
        "tags": [],
        "id": "a055f177",
        "outputId": "57f677b2-391e-445c-c728-c45bc767e837"
      },
      "outputs": [
        {
          "data": {
            "text/html": [
              "<div>\n",
              "<style scoped>\n",
              "    .dataframe tbody tr th:only-of-type {\n",
              "        vertical-align: middle;\n",
              "    }\n",
              "\n",
              "    .dataframe tbody tr th {\n",
              "        vertical-align: top;\n",
              "    }\n",
              "\n",
              "    .dataframe thead th {\n",
              "        text-align: right;\n",
              "    }\n",
              "</style>\n",
              "<table border=\"1\" class=\"dataframe\">\n",
              "  <thead>\n",
              "    <tr style=\"text-align: right;\">\n",
              "      <th></th>\n",
              "      <th>Reference ID</th>\n",
              "      <th>Report Year</th>\n",
              "      <th>Diagnosis Category</th>\n",
              "      <th>Diagnosis Sub Category</th>\n",
              "      <th>Treatment Category</th>\n",
              "      <th>Treatment Sub Category</th>\n",
              "      <th>Determination</th>\n",
              "      <th>Type</th>\n",
              "      <th>Age Range</th>\n",
              "      <th>Patient Gender</th>\n",
              "      <th>Findings</th>\n",
              "    </tr>\n",
              "  </thead>\n",
              "  <tbody>\n",
              "    <tr>\n",
              "      <th>9836</th>\n",
              "      <td>EI10-11138</td>\n",
              "      <td>2010</td>\n",
              "      <td>Mental</td>\n",
              "      <td>Depression</td>\n",
              "      <td>Electrical/ Thermal/ Radiofreq. Interventions</td>\n",
              "      <td>NaN</td>\n",
              "      <td>Upheld Decision of Health Plan</td>\n",
              "      <td>Experimental/Investigational</td>\n",
              "      <td>51-64</td>\n",
              "      <td>Male</td>\n",
              "      <td>A 56-year-old male enrollee has requested for ...</td>\n",
              "    </tr>\n",
              "    <tr>\n",
              "      <th>3596</th>\n",
              "      <td>MN14-19188</td>\n",
              "      <td>2014</td>\n",
              "      <td>Mental</td>\n",
              "      <td>Bipolar Disorder</td>\n",
              "      <td>Mental Health Treatment</td>\n",
              "      <td>Acute Psychiatric Facility Admission</td>\n",
              "      <td>Overturned Decision of Health Plan</td>\n",
              "      <td>Medical Necessity</td>\n",
              "      <td>31-40</td>\n",
              "      <td>Female</td>\n",
              "      <td>A 38-year-old female enrollee requested inpati...</td>\n",
              "    </tr>\n",
              "    <tr>\n",
              "      <th>1866</th>\n",
              "      <td>MN15-21044</td>\n",
              "      <td>2015</td>\n",
              "      <td>Mental</td>\n",
              "      <td>Eating Disorder</td>\n",
              "      <td>Mental Health Treatment</td>\n",
              "      <td>Partial Hospitalization</td>\n",
              "      <td>Overturned Decision of Health Plan</td>\n",
              "      <td>Medical Necessity</td>\n",
              "      <td>21-30</td>\n",
              "      <td>Female</td>\n",
              "      <td>Nature of Statutory Criteria/Case Summary:  An...</td>\n",
              "    </tr>\n",
              "  </tbody>\n",
              "</table>\n",
              "</div>"
            ],
            "text/plain": [
              "     Reference ID  Report Year Diagnosis Category Diagnosis Sub Category  \\\n",
              "9836   EI10-11138         2010             Mental             Depression   \n",
              "3596   MN14-19188         2014             Mental       Bipolar Disorder   \n",
              "1866   MN15-21044         2015             Mental        Eating Disorder   \n",
              "\n",
              "                                 Treatment Category  \\\n",
              "9836  Electrical/ Thermal/ Radiofreq. Interventions   \n",
              "3596                        Mental Health Treatment   \n",
              "1866                        Mental Health Treatment   \n",
              "\n",
              "                    Treatment Sub Category  \\\n",
              "9836                                   NaN   \n",
              "3596  Acute Psychiatric Facility Admission   \n",
              "1866               Partial Hospitalization   \n",
              "\n",
              "                           Determination                          Type  \\\n",
              "9836      Upheld Decision of Health Plan  Experimental/Investigational   \n",
              "3596  Overturned Decision of Health Plan             Medical Necessity   \n",
              "1866  Overturned Decision of Health Plan             Medical Necessity   \n",
              "\n",
              "     Age Range Patient Gender  \\\n",
              "9836     51-64           Male   \n",
              "3596     31-40         Female   \n",
              "1866     21-30         Female   \n",
              "\n",
              "                                               Findings  \n",
              "9836  A 56-year-old male enrollee has requested for ...  \n",
              "3596  A 38-year-old female enrollee requested inpati...  \n",
              "1866  Nature of Statutory Criteria/Case Summary:  An...  "
            ]
          },
          "execution_count": 2,
          "metadata": {},
          "output_type": "execute_result"
        }
      ],
      "source": [
        "df = pd.read_csv(r'/kaggle/input/ca-independent-medical-review/Independent_Medical_Review__IMR__Determinations__Trend.csv')\n",
        "df.sample(n = 3)"
      ]
    },
    {
      "cell_type": "code",
      "execution_count": null,
      "id": "a16ca558",
      "metadata": {
        "execution": {
          "iopub.execute_input": "2023-10-17T03:32:22.618958Z",
          "iopub.status.busy": "2023-10-17T03:32:22.618335Z",
          "iopub.status.idle": "2023-10-17T03:32:22.634955Z",
          "shell.execute_reply": "2023-10-17T03:32:22.634190Z"
        },
        "papermill": {
          "duration": 0.024302,
          "end_time": "2023-10-17T03:32:22.636878",
          "exception": false,
          "start_time": "2023-10-17T03:32:22.612576",
          "status": "completed"
        },
        "tags": [],
        "id": "a16ca558",
        "outputId": "0741fff6-7551-458f-eb5d-909d375c9558"
      },
      "outputs": [
        {
          "data": {
            "text/html": [
              "<div>\n",
              "<style scoped>\n",
              "    .dataframe tbody tr th:only-of-type {\n",
              "        vertical-align: middle;\n",
              "    }\n",
              "\n",
              "    .dataframe tbody tr th {\n",
              "        vertical-align: top;\n",
              "    }\n",
              "\n",
              "    .dataframe thead th {\n",
              "        text-align: right;\n",
              "    }\n",
              "</style>\n",
              "<table border=\"1\" class=\"dataframe\">\n",
              "  <thead>\n",
              "    <tr style=\"text-align: right;\">\n",
              "      <th></th>\n",
              "      <th>Findings</th>\n",
              "      <th>Determination</th>\n",
              "    </tr>\n",
              "  </thead>\n",
              "  <tbody>\n",
              "    <tr>\n",
              "      <th>2443</th>\n",
              "      <td>Nature of Statutory Criteria/Case Summary:  An...</td>\n",
              "      <td>Upheld Decision of Health Plan</td>\n",
              "    </tr>\n",
              "    <tr>\n",
              "      <th>9686</th>\n",
              "      <td>A 56-year-old female enrollee has requested DI...</td>\n",
              "      <td>Overturned Decision of Health Plan</td>\n",
              "    </tr>\n",
              "    <tr>\n",
              "      <th>12403</th>\n",
              "      <td>A 55-year-old female enrollee has requested fu...</td>\n",
              "      <td>Overturned Decision of Health Plan</td>\n",
              "    </tr>\n",
              "  </tbody>\n",
              "</table>\n",
              "</div>"
            ],
            "text/plain": [
              "                                                Findings  \\\n",
              "2443   Nature of Statutory Criteria/Case Summary:  An...   \n",
              "9686   A 56-year-old female enrollee has requested DI...   \n",
              "12403  A 55-year-old female enrollee has requested fu...   \n",
              "\n",
              "                            Determination  \n",
              "2443       Upheld Decision of Health Plan  \n",
              "9686   Overturned Decision of Health Plan  \n",
              "12403  Overturned Decision of Health Plan  "
            ]
          },
          "execution_count": 3,
          "metadata": {},
          "output_type": "execute_result"
        }
      ],
      "source": [
        "main_df = df[['Findings', 'Determination']]\n",
        "main_df.sample(3)"
      ]
    },
    {
      "cell_type": "code",
      "execution_count": null,
      "id": "ae9dc093",
      "metadata": {
        "execution": {
          "iopub.execute_input": "2023-10-17T03:32:22.647643Z",
          "iopub.status.busy": "2023-10-17T03:32:22.647296Z",
          "iopub.status.idle": "2023-10-17T03:32:22.652215Z",
          "shell.execute_reply": "2023-10-17T03:32:22.651313Z"
        },
        "papermill": {
          "duration": 0.012995,
          "end_time": "2023-10-17T03:32:22.654578",
          "exception": false,
          "start_time": "2023-10-17T03:32:22.641583",
          "status": "completed"
        },
        "tags": [],
        "id": "ae9dc093",
        "outputId": "3ad062b1-5eee-46b9-9ba6-737ab593d417"
      },
      "outputs": [
        {
          "name": "stdout",
          "output_type": "stream",
          "text": [
            "Number of examples before cleaning = 19245\n",
            "Number of examples = 2\n"
          ]
        }
      ],
      "source": [
        "print(f'Number of examples before cleaning = {main_df.shape[0]}')\n",
        "print(f'Number of examples = {main_df.shape[1]}')"
      ]
    },
    {
      "cell_type": "code",
      "execution_count": null,
      "id": "1c2e01b4",
      "metadata": {
        "execution": {
          "iopub.execute_input": "2023-10-17T03:32:22.666698Z",
          "iopub.status.busy": "2023-10-17T03:32:22.666375Z",
          "iopub.status.idle": "2023-10-17T03:32:22.673422Z",
          "shell.execute_reply": "2023-10-17T03:32:22.672489Z"
        },
        "papermill": {
          "duration": 0.015103,
          "end_time": "2023-10-17T03:32:22.675490",
          "exception": false,
          "start_time": "2023-10-17T03:32:22.660387",
          "status": "completed"
        },
        "tags": [],
        "id": "1c2e01b4",
        "outputId": "0aba211c-bd30-4a75-dd53-5afb09170892"
      },
      "outputs": [
        {
          "data": {
            "text/plain": [
              "Findings         object\n",
              "Determination    object\n",
              "dtype: object"
            ]
          },
          "execution_count": 5,
          "metadata": {},
          "output_type": "execute_result"
        }
      ],
      "source": [
        "data_types = main_df.dtypes\n",
        "data_types"
      ]
    },
    {
      "cell_type": "code",
      "execution_count": null,
      "id": "625b3fab",
      "metadata": {
        "execution": {
          "iopub.execute_input": "2023-10-17T03:32:22.686192Z",
          "iopub.status.busy": "2023-10-17T03:32:22.685881Z",
          "iopub.status.idle": "2023-10-17T03:32:22.695206Z",
          "shell.execute_reply": "2023-10-17T03:32:22.694207Z"
        },
        "papermill": {
          "duration": 0.016914,
          "end_time": "2023-10-17T03:32:22.697123",
          "exception": false,
          "start_time": "2023-10-17T03:32:22.680209",
          "status": "completed"
        },
        "tags": [],
        "id": "625b3fab"
      },
      "outputs": [],
      "source": [
        "mask = (main_df.Determination == 'Overturned Decision of Health Plan') # create mask\n",
        "new_target = mask.astype('int') # change mask to integers\n",
        "main_df = main_df.assign(Determination = new_target)"
      ]
    },
    {
      "cell_type": "code",
      "execution_count": null,
      "id": "ca711cda",
      "metadata": {
        "execution": {
          "iopub.execute_input": "2023-10-17T03:32:22.708777Z",
          "iopub.status.busy": "2023-10-17T03:32:22.708462Z",
          "iopub.status.idle": "2023-10-17T03:32:22.719391Z",
          "shell.execute_reply": "2023-10-17T03:32:22.718350Z"
        },
        "papermill": {
          "duration": 0.018911,
          "end_time": "2023-10-17T03:32:22.721199",
          "exception": false,
          "start_time": "2023-10-17T03:32:22.702288",
          "status": "completed"
        },
        "tags": [],
        "id": "ca711cda",
        "outputId": "f0f51d0c-ebd8-4ec7-b73a-5e872dfb5d83"
      },
      "outputs": [
        {
          "data": {
            "text/plain": [
              "Findings         20\n",
              "Determination     0\n",
              "dtype: int64"
            ]
          },
          "execution_count": 7,
          "metadata": {},
          "output_type": "execute_result"
        }
      ],
      "source": [
        "num_missing = main_df.isna().sum()\n",
        "num_missing"
      ]
    },
    {
      "cell_type": "code",
      "execution_count": null,
      "id": "f8c38202",
      "metadata": {
        "execution": {
          "iopub.execute_input": "2023-10-17T03:32:22.732755Z",
          "iopub.status.busy": "2023-10-17T03:32:22.732427Z",
          "iopub.status.idle": "2023-10-17T03:32:22.747802Z",
          "shell.execute_reply": "2023-10-17T03:32:22.746734Z"
        },
        "papermill": {
          "duration": 0.023608,
          "end_time": "2023-10-17T03:32:22.749771",
          "exception": false,
          "start_time": "2023-10-17T03:32:22.726163",
          "status": "completed"
        },
        "tags": [],
        "id": "f8c38202",
        "outputId": "0798d7af-0e50-4121-eaec-ef3b8f3efbc0"
      },
      "outputs": [
        {
          "data": {
            "text/plain": [
              "Findings         0\n",
              "Determination    0\n",
              "dtype: int64"
            ]
          },
          "execution_count": 8,
          "metadata": {},
          "output_type": "execute_result"
        }
      ],
      "source": [
        "main_df = main_df.dropna(axis = 0)\n",
        "main_df.isna().sum()"
      ]
    },
    {
      "cell_type": "code",
      "execution_count": null,
      "id": "8d4a1d59",
      "metadata": {
        "execution": {
          "iopub.execute_input": "2023-10-17T03:32:22.761434Z",
          "iopub.status.busy": "2023-10-17T03:32:22.761039Z",
          "iopub.status.idle": "2023-10-17T03:32:22.766039Z",
          "shell.execute_reply": "2023-10-17T03:32:22.765365Z"
        },
        "papermill": {
          "duration": 0.01326,
          "end_time": "2023-10-17T03:32:22.768134",
          "exception": false,
          "start_time": "2023-10-17T03:32:22.754874",
          "status": "completed"
        },
        "tags": [],
        "id": "8d4a1d59",
        "outputId": "ac778225-12d1-43b1-edf4-80d3e4b8541b"
      },
      "outputs": [
        {
          "name": "stdout",
          "output_type": "stream",
          "text": [
            "Number of examples = 19225\n",
            "Number of examples = 2\n"
          ]
        }
      ],
      "source": [
        "print(f'Number of examples = {main_df.shape[0]}')\n",
        "print(f'Number of examples = {main_df.shape[1]}')"
      ]
    },
    {
      "cell_type": "code",
      "execution_count": null,
      "id": "58d6e716",
      "metadata": {
        "execution": {
          "iopub.execute_input": "2023-10-17T03:32:22.779977Z",
          "iopub.status.busy": "2023-10-17T03:32:22.779597Z",
          "iopub.status.idle": "2023-10-17T03:32:22.789298Z",
          "shell.execute_reply": "2023-10-17T03:32:22.788148Z"
        },
        "papermill": {
          "duration": 0.01782,
          "end_time": "2023-10-17T03:32:22.791141",
          "exception": false,
          "start_time": "2023-10-17T03:32:22.773321",
          "status": "completed"
        },
        "tags": [],
        "id": "58d6e716",
        "outputId": "4e8cf9d6-8d12-428d-cf40-1e83dabe4bbd"
      },
      "outputs": [
        {
          "data": {
            "text/html": [
              "<div>\n",
              "<style scoped>\n",
              "    .dataframe tbody tr th:only-of-type {\n",
              "        vertical-align: middle;\n",
              "    }\n",
              "\n",
              "    .dataframe tbody tr th {\n",
              "        vertical-align: top;\n",
              "    }\n",
              "\n",
              "    .dataframe thead th {\n",
              "        text-align: right;\n",
              "    }\n",
              "</style>\n",
              "<table border=\"1\" class=\"dataframe\">\n",
              "  <thead>\n",
              "    <tr style=\"text-align: right;\">\n",
              "      <th></th>\n",
              "      <th>Findings</th>\n",
              "      <th>Determination</th>\n",
              "    </tr>\n",
              "  </thead>\n",
              "  <tbody>\n",
              "    <tr>\n",
              "      <th>0</th>\n",
              "      <td>Nature of Statutory Criteria/Case Summary: An ...</td>\n",
              "      <td>1</td>\n",
              "    </tr>\n",
              "    <tr>\n",
              "      <th>1</th>\n",
              "      <td>Nature of Statutory Criteria/Case Summary:  An...</td>\n",
              "      <td>0</td>\n",
              "    </tr>\n",
              "  </tbody>\n",
              "</table>\n",
              "</div>"
            ],
            "text/plain": [
              "                                            Findings  Determination\n",
              "0  Nature of Statutory Criteria/Case Summary: An ...              1\n",
              "1  Nature of Statutory Criteria/Case Summary:  An...              0"
            ]
          },
          "execution_count": 10,
          "metadata": {},
          "output_type": "execute_result"
        }
      ],
      "source": [
        "main_df.head(2)"
      ]
    },
    {
      "cell_type": "code",
      "execution_count": null,
      "id": "0892c80e",
      "metadata": {
        "execution": {
          "iopub.execute_input": "2023-10-17T03:32:22.803406Z",
          "iopub.status.busy": "2023-10-17T03:32:22.803064Z",
          "iopub.status.idle": "2023-10-17T03:32:22.811519Z",
          "shell.execute_reply": "2023-10-17T03:32:22.810497Z"
        },
        "papermill": {
          "duration": 0.017285,
          "end_time": "2023-10-17T03:32:22.813772",
          "exception": false,
          "start_time": "2023-10-17T03:32:22.796487",
          "status": "completed"
        },
        "tags": [],
        "id": "0892c80e"
      },
      "outputs": [],
      "source": [
        "def plot_training_log(history):\n",
        "    history = pd.DataFrame(data = history.history, index = history.epoch)\n",
        "    fig, ax = plt.subplots(2,1, sharex = True, figsize = (5,10))\n",
        "    ax[0].plot(history.index, history.loss, label = 'Train')\n",
        "    ax[0].plot(history.index, history.val_loss, label = 'Validation')\n",
        "    ax[0].set_ylim(0.0,0.5)\n",
        "    ax[0].set_title('Train_loss vs Val_loss')\n",
        "    ax[0].legend()\n",
        "    ax[0].set_ylabel('Loss')\n",
        "    ax[1].plot(history.index, history.accuracy, label = 'Train')\n",
        "    ax[1].plot(history.index, history.val_accuracy, label = 'Validation')\n",
        "    ax[1].set_ylim(0.5, 1.0)\n",
        "    ax[1].set_title('Train_Accuracy vs Val_Accuracy')\n",
        "    ax[1].legend()\n",
        "    ax[1].set_ylabel('Accuracy')\n",
        "    ax[1].set_xlabel('Epochs')\n",
        "    plt.show()\n",
        "\n",
        "def get_predictions(input, label):\n",
        "    logit = model.predict(input)\n",
        "    pred = np.squeeze((logit >= 0.0).astype('int'))\n",
        "    return pred, label\n",
        "\n",
        "def scheduler(epoch, lr):\n",
        "    if epoch < 10:\n",
        "        return 0.001\n",
        "    else:\n",
        "        return 0.0001"
      ]
    },
    {
      "cell_type": "code",
      "execution_count": null,
      "id": "d6287fb8",
      "metadata": {
        "execution": {
          "iopub.execute_input": "2023-10-17T03:32:22.825993Z",
          "iopub.status.busy": "2023-10-17T03:32:22.825614Z",
          "iopub.status.idle": "2023-10-17T03:32:22.998916Z",
          "shell.execute_reply": "2023-10-17T03:32:22.997742Z"
        },
        "papermill": {
          "duration": 0.182426,
          "end_time": "2023-10-17T03:32:23.001523",
          "exception": false,
          "start_time": "2023-10-17T03:32:22.819097",
          "status": "completed"
        },
        "tags": [],
        "id": "d6287fb8"
      },
      "outputs": [],
      "source": [
        "Input = main_df['Findings']\n",
        "output = main_df['Determination']\n",
        "data_set = tf.data.Dataset.from_tensor_slices((Input,output))"
      ]
    },
    {
      "cell_type": "code",
      "execution_count": null,
      "id": "71149d1d",
      "metadata": {
        "execution": {
          "iopub.execute_input": "2023-10-17T03:32:23.015296Z",
          "iopub.status.busy": "2023-10-17T03:32:23.013331Z",
          "iopub.status.idle": "2023-10-17T03:32:41.311942Z",
          "shell.execute_reply": "2023-10-17T03:32:41.310749Z"
        },
        "papermill": {
          "duration": 18.307512,
          "end_time": "2023-10-17T03:32:41.314494",
          "exception": false,
          "start_time": "2023-10-17T03:32:23.006982",
          "status": "completed"
        },
        "tags": [],
        "id": "71149d1d"
      },
      "outputs": [],
      "source": [
        "vocab_size = 1000\n",
        "text_vectorizer = tf.keras.layers.TextVectorization(max_tokens = vocab_size)\n",
        "data_input = data_set.map(lambda x,y: x)\n",
        "text_vectorizer.adapt(data_input)"
      ]
    },
    {
      "cell_type": "code",
      "execution_count": null,
      "id": "45517c3d",
      "metadata": {
        "execution": {
          "iopub.execute_input": "2023-10-17T03:32:41.326980Z",
          "iopub.status.busy": "2023-10-17T03:32:41.326605Z",
          "iopub.status.idle": "2023-10-17T03:32:41.386141Z",
          "shell.execute_reply": "2023-10-17T03:32:41.385010Z"
        },
        "papermill": {
          "duration": 0.068324,
          "end_time": "2023-10-17T03:32:41.388405",
          "exception": false,
          "start_time": "2023-10-17T03:32:41.320081",
          "status": "completed"
        },
        "tags": [],
        "id": "45517c3d",
        "outputId": "7814b45b-fb7f-450f-d257-60af7f407bee"
      },
      "outputs": [
        {
          "name": "stdout",
          "output_type": "stream",
          "text": [
            "Original text: Nature of Statutory Criteria/Case Summary: An enrollee has requested H\n",
            "\n",
            "\n",
            "tokens: [132   3 181 182 164  27  34  12  17   1]\n",
            "\n",
            "\n",
            "Transcript: nature of statutory criteriacase summary an enrollee has requested [UNK]\n"
          ]
        }
      ],
      "source": [
        "original_text = main_df['Findings'][0][:70]\n",
        "vocab = np.array(text_vectorizer.get_vocabulary())\n",
        "text_vectors = text_vectorizer(original_text).numpy()\n",
        "transcript = ' '.join(vocab[text_vectors])\n",
        "print(f'Original text: {original_text}')\n",
        "print('\\n')\n",
        "print(f'tokens: {text_vectors}')\n",
        "print('\\n')\n",
        "print(f'Transcript: {transcript}')"
      ]
    },
    {
      "cell_type": "code",
      "execution_count": null,
      "id": "fd34a094",
      "metadata": {
        "execution": {
          "iopub.execute_input": "2023-10-17T03:32:41.400507Z",
          "iopub.status.busy": "2023-10-17T03:32:41.400148Z",
          "iopub.status.idle": "2023-10-17T03:32:41.419137Z",
          "shell.execute_reply": "2023-10-17T03:32:41.418294Z"
        },
        "papermill": {
          "duration": 0.027582,
          "end_time": "2023-10-17T03:32:41.421259",
          "exception": false,
          "start_time": "2023-10-17T03:32:41.393677",
          "status": "completed"
        },
        "tags": [],
        "id": "fd34a094"
      },
      "outputs": [],
      "source": [
        "data_set = data_set.batch(64).shuffle(buffer_size = 1000).cache().prefetch(buffer_size = tf.data.AUTOTUNE)"
      ]
    },
    {
      "cell_type": "code",
      "execution_count": null,
      "id": "767842d1",
      "metadata": {
        "execution": {
          "iopub.execute_input": "2023-10-17T03:32:41.433917Z",
          "iopub.status.busy": "2023-10-17T03:32:41.433572Z",
          "iopub.status.idle": "2023-10-17T03:32:41.450783Z",
          "shell.execute_reply": "2023-10-17T03:32:41.449709Z"
        },
        "papermill": {
          "duration": 0.026162,
          "end_time": "2023-10-17T03:32:41.452954",
          "exception": false,
          "start_time": "2023-10-17T03:32:41.426792",
          "status": "completed"
        },
        "tags": [],
        "id": "767842d1",
        "outputId": "9aef1b99-f4e2-422c-b06c-d6557b9d3755"
      },
      "outputs": [
        {
          "name": "stdout",
          "output_type": "stream",
          "text": [
            "Number of train batches 240, Number of val batches 60, Number of test batches 1\n"
          ]
        }
      ],
      "source": [
        "train_size = 0.8\n",
        "num_batches = data_set.cardinality().numpy()\n",
        "num_train = int(num_batches * train_size)\n",
        "num_val = num_batches - num_train - 1\n",
        "num_test = 1\n",
        "\n",
        "train_set = data_set.take(num_train)\n",
        "train_set_ = data_set.skip(num_train)\n",
        "val_set = train_set_.take(num_val)\n",
        "test_set = train_set_.skip(num_val)\n",
        "\n",
        "# sanity check\n",
        "print(f'Number of train batches {train_set.cardinality().numpy()}, Number of val batches {val_set.cardinality().numpy()}, Number of test batches {test_set.cardinality().numpy()}')"
      ]
    },
    {
      "cell_type": "code",
      "execution_count": null,
      "id": "58530c35",
      "metadata": {
        "execution": {
          "iopub.execute_input": "2023-10-17T03:32:41.465655Z",
          "iopub.status.busy": "2023-10-17T03:32:41.464850Z",
          "iopub.status.idle": "2023-10-17T04:06:56.412179Z",
          "shell.execute_reply": "2023-10-17T04:06:56.411262Z"
        },
        "papermill": {
          "duration": 2054.95623,
          "end_time": "2023-10-17T04:06:56.414686",
          "exception": false,
          "start_time": "2023-10-17T03:32:41.458456",
          "status": "completed"
        },
        "tags": [],
        "id": "58530c35",
        "outputId": "285c1f8d-dce2-496f-cb55-1a5eef0c5d90"
      },
      "outputs": [
        {
          "name": "stdout",
          "output_type": "stream",
          "text": [
            "1/1 [==============================] - 7s 7s/step - loss: 0.6929 - accuracy: 0.4531\n",
            "Test accuracy before model training 0.453125\n",
            "Epoch 1/15\n",
            "240/240 [==============================] - 128s 495ms/step - loss: 0.5348 - accuracy: 0.7392 - val_loss: 0.2786 - val_accuracy: 0.9091 - lr: 0.0010\n",
            "Epoch 2/15\n",
            "240/240 [==============================] - 119s 496ms/step - loss: 0.3405 - accuracy: 0.9135 - val_loss: 0.2418 - val_accuracy: 0.9195 - lr: 0.0010\n",
            "Epoch 3/15\n",
            "240/240 [==============================] - 120s 498ms/step - loss: 0.3344 - accuracy: 0.8929 - val_loss: 0.2142 - val_accuracy: 0.9234 - lr: 0.0010\n",
            "Epoch 4/15\n",
            "240/240 [==============================] - 120s 499ms/step - loss: 0.2176 - accuracy: 0.9353 - val_loss: 0.2096 - val_accuracy: 0.9206 - lr: 0.0010\n",
            "Epoch 5/15\n",
            "240/240 [==============================] - 119s 495ms/step - loss: 0.2000 - accuracy: 0.9415 - val_loss: 0.2035 - val_accuracy: 0.9234 - lr: 0.0010\n",
            "Epoch 6/15\n",
            "240/240 [==============================] - 119s 491ms/step - loss: 0.1919 - accuracy: 0.9385 - val_loss: 0.1995 - val_accuracy: 0.9201 - lr: 0.0010\n",
            "Epoch 7/15\n",
            "240/240 [==============================] - 118s 491ms/step - loss: 0.1820 - accuracy: 0.9428 - val_loss: 0.2014 - val_accuracy: 0.9208 - lr: 0.0010\n",
            "Epoch 8/15\n",
            "240/240 [==============================] - 119s 496ms/step - loss: 0.1597 - accuracy: 0.9525 - val_loss: 0.1961 - val_accuracy: 0.9289 - lr: 0.0010\n",
            "Epoch 9/15\n",
            "240/240 [==============================] - 118s 491ms/step - loss: 0.1485 - accuracy: 0.9553 - val_loss: 0.2060 - val_accuracy: 0.9266 - lr: 0.0010\n",
            "Epoch 10/15\n",
            "240/240 [==============================] - 119s 494ms/step - loss: 0.1510 - accuracy: 0.9525 - val_loss: 0.2244 - val_accuracy: 0.9268 - lr: 0.0010\n",
            "Epoch 11/15\n",
            "240/240 [==============================] - 118s 489ms/step - loss: 0.1341 - accuracy: 0.9605 - val_loss: 0.2117 - val_accuracy: 0.9315 - lr: 1.0000e-04\n",
            "Epoch 12/15\n",
            "240/240 [==============================] - 121s 501ms/step - loss: 0.1249 - accuracy: 0.9638 - val_loss: 0.2100 - val_accuracy: 0.9292 - lr: 1.0000e-04\n",
            "Epoch 13/15\n",
            "240/240 [==============================] - 119s 493ms/step - loss: 0.1219 - accuracy: 0.9658 - val_loss: 0.2112 - val_accuracy: 0.9294 - lr: 1.0000e-04\n",
            "Epoch 14/15\n",
            "240/240 [==============================] - 120s 498ms/step - loss: 0.1199 - accuracy: 0.9671 - val_loss: 0.2126 - val_accuracy: 0.9284 - lr: 1.0000e-04\n",
            "Epoch 15/15\n",
            "240/240 [==============================] - 118s 492ms/step - loss: 0.1172 - accuracy: 0.9665 - val_loss: 0.2192 - val_accuracy: 0.9292 - lr: 1.0000e-04\n"
          ]
        }
      ],
      "source": [
        "model = tf.keras.Sequential([text_vectorizer, tf.keras.layers.Embedding(vocab_size, 64, mask_zero = True),\n",
        "                             tf.keras.layers.Bidirectional(tf.keras.layers.LSTM(64)),\n",
        "                             tf.keras.layers.Dense(8, activation = 'relu'),\n",
        "                             tf.keras.layers.Dropout(0.5),\n",
        "                             tf.keras.layers.Dense(1)\n",
        "                            ])\n",
        "\n",
        "RoP = tf.keras.callbacks.LearningRateScheduler(scheduler)\n",
        "\n",
        "model.compile(optimizer = tf.keras.optimizers.Adam(), loss = tf.keras.losses.BinaryCrossentropy(from_logits = True), metrics = ['accuracy'])\n",
        "\n",
        "print(f'Test accuracy before model training {model.evaluate(test_set)[1]}')\n",
        "\n",
        "history = model.fit(train_set, epochs=15, validation_data = val_set, callbacks = [RoP])"
      ]
    },
    {
      "cell_type": "code",
      "execution_count": null,
      "id": "6dea20db",
      "metadata": {
        "execution": {
          "iopub.execute_input": "2023-10-17T04:06:56.798320Z",
          "iopub.status.busy": "2023-10-17T04:06:56.797399Z",
          "iopub.status.idle": "2023-10-17T04:06:57.303751Z",
          "shell.execute_reply": "2023-10-17T04:06:57.302653Z"
        },
        "papermill": {
          "duration": 0.700152,
          "end_time": "2023-10-17T04:06:57.306059",
          "exception": false,
          "start_time": "2023-10-17T04:06:56.605907",
          "status": "completed"
        },
        "tags": [],
        "id": "6dea20db",
        "outputId": "833335de-0e2f-4328-e163-d3b77a51a7ad"
      },
      "outputs": [
        {
          "data": {
            "image/png": "[encoded data removed]",
            "text/plain": [
              "<Figure size 500x1000 with 2 Axes>"
            ]
          },
          "metadata": {},
          "output_type": "display_data"
        }
      ],
      "source": [
        "plot_training_log(history)"
      ]
    },
    {
      "cell_type": "code",
      "execution_count": null,
      "id": "6ada5c94",
      "metadata": {
        "execution": {
          "iopub.execute_input": "2023-10-17T04:06:57.685416Z",
          "iopub.status.busy": "2023-10-17T04:06:57.685058Z",
          "iopub.status.idle": "2023-10-17T04:06:57.998390Z",
          "shell.execute_reply": "2023-10-17T04:06:57.997081Z"
        },
        "papermill": {
          "duration": 0.505408,
          "end_time": "2023-10-17T04:06:58.000429",
          "exception": false,
          "start_time": "2023-10-17T04:06:57.495021",
          "status": "completed"
        },
        "tags": [],
        "id": "6ada5c94",
        "outputId": "c42e011d-0d10-44de-dd8e-a7b10fe743b5"
      },
      "outputs": [
        {
          "name": "stdout",
          "output_type": "stream",
          "text": [
            "1/1 [==============================] - 0s 159ms/step - loss: 0.0047 - accuracy: 1.0000\n",
            "Test accuracy after model training 1.0\n"
          ]
        }
      ],
      "source": [
        "print(f'Test accuracy after model training {model.evaluate(test_set)[1]}')"
      ]
    },
    {
      "cell_type": "code",
      "execution_count": null,
      "id": "11ebb782",
      "metadata": {
        "execution": {
          "iopub.execute_input": "2023-10-17T04:06:58.385742Z",
          "iopub.status.busy": "2023-10-17T04:06:58.385335Z",
          "iopub.status.idle": "2023-10-17T04:07:00.876378Z",
          "shell.execute_reply": "2023-10-17T04:07:00.875427Z"
        },
        "papermill": {
          "duration": 2.685343,
          "end_time": "2023-10-17T04:07:00.877978",
          "exception": false,
          "start_time": "2023-10-17T04:06:58.192635",
          "status": "completed"
        },
        "tags": [],
        "id": "11ebb782",
        "outputId": "c3e4c07c-ec20-47bb-f044-6bff3ee6ba60"
      },
      "outputs": [
        {
          "name": "stdout",
          "output_type": "stream",
          "text": [
            "1/1 [==============================] - 2s 2s/step\n",
            "Predicted output is 1 and True label is 1\n"
          ]
        }
      ],
      "source": [
        "random_idx = np.random.choice(main_df.shape[0])\n",
        "sample_input = main_df[['Findings']].values[random_idx]\n",
        "sample_output = main_df['Determination'].values[random_idx]\n",
        "\n",
        "v, n = get_predictions(sample_input, sample_output)\n",
        "print(f'Predicted output is {v} and True label is {n}')"
      ]
    }
  ],
  "metadata": {
    "kernelspec": {
      "display_name": "Python 3",
      "language": "python",
      "name": "python3"
    },
    "language_info": {
      "codemirror_mode": {
        "name": "ipython",
        "version": 3
      },
      "file_extension": ".py",
      "mimetype": "text/x-python",
      "name": "python",
      "nbconvert_exporter": "python",
      "pygments_lexer": "ipython3",
      "version": "3.10.12"
    },
    "papermill": {
      "default_parameters": {},
      "duration": 2093.461379,
      "end_time": "2023-10-17T04:07:04.111009",
      "environment_variables": {},
      "exception": null,
      "input_path": "__notebook__.ipynb",
      "output_path": "__notebook__.ipynb",
      "parameters": {},
      "start_time": "2023-10-17T03:32:10.649630",
      "version": "2.4.0"
    },
    "colab": {
      "provenance": []
    }
  },
  "nbformat": 4,
  "nbformat_minor": 5
}