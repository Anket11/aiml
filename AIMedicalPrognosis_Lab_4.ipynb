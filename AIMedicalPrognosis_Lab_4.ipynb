{
  "metadata": {
    "kernelspec": {
      "language": "python",
      "display_name": "Python 3",
      "name": "python3"
    },
    "language_info": {
      "name": "python",
      "version": "3.10.12",
      "mimetype": "text/x-python",
      "codemirror_mode": {
        "name": "ipython",
        "version": 3
      },
      "pygments_lexer": "ipython3",
      "nbconvert_exporter": "python",
      "file_extension": ".py"
    },
    "colab": {
      "provenance": []
    }
  },
  "nbformat_minor": 0,
  "nbformat": 4,
  "cells": [
    {
      "cell_type": "code",
      "source": [
        "import tensorflow as tf\n",
        "from tensorflow.keras.models import Sequential\n",
        "from tensorflow.keras.layers import Conv2D, MaxPooling2D, Flatten, Dense\n",
        "from tensorflow.keras.preprocessing.image import ImageDataGenerator"
      ],
      "metadata": {
        "_uuid": "8f2839f25d086af736a60e9eeb907d3b93b6e0e5",
        "_cell_guid": "b1076dfc-b9ad-4769-8c92-a6c4dae69d19",
        "execution": {
          "iopub.status.busy": "2023-10-17T01:25:03.838764Z",
          "iopub.execute_input": "2023-10-17T01:25:03.839598Z",
          "iopub.status.idle": "2023-10-17T01:25:15.020576Z",
          "shell.execute_reply.started": "2023-10-17T01:25:03.839555Z",
          "shell.execute_reply": "2023-10-17T01:25:15.019467Z"
        },
        "trusted": true,
        "id": "KoyzbWirKa9c"
      },
      "execution_count": null,
      "outputs": []
    },
    {
      "cell_type": "code",
      "source": [
        "train_datagen = ImageDataGenerator(rescale=1./255)\n",
        "test_datagen = ImageDataGenerator(rescale=1./255)\n",
        "\n",
        "train_generator = train_datagen.flow_from_directory(\n",
        "    '/kaggle/input/chest-xray-pneumonia/chest_xray/train',\n",
        "    target_size=(150, 150),\n",
        "    batch_size=32,\n",
        "    class_mode='binary'\n",
        ")\n",
        "\n",
        "validation_generator = test_datagen.flow_from_directory(\n",
        "    '/kaggle/input/chest-xray-pneumonia/chest_xray/val',\n",
        "    target_size=(150, 150),\n",
        "    batch_size=32,\n",
        "    class_mode='binary'\n",
        ")\n"
      ],
      "metadata": {
        "execution": {
          "iopub.status.busy": "2023-10-17T01:27:14.908434Z",
          "iopub.execute_input": "2023-10-17T01:27:14.909161Z",
          "iopub.status.idle": "2023-10-17T01:27:21.946180Z",
          "shell.execute_reply.started": "2023-10-17T01:27:14.909113Z",
          "shell.execute_reply": "2023-10-17T01:27:21.945435Z"
        },
        "trusted": true,
        "id": "4m9sFYGkKa9d",
        "outputId": "f467c346-ea1f-479c-8424-2cae4d39f805"
      },
      "execution_count": null,
      "outputs": [
        {
          "name": "stdout",
          "text": "Found 5216 images belonging to 2 classes.\nFound 16 images belonging to 2 classes.\n",
          "output_type": "stream"
        }
      ]
    },
    {
      "cell_type": "code",
      "source": [
        "model = Sequential([\n",
        "    Conv2D(32, (3, 3), activation='relu', input_shape=(150, 150, 3)),\n",
        "    MaxPooling2D(2, 2),\n",
        "    Conv2D(64, (3, 3), activation='relu'),\n",
        "    MaxPooling2D(2, 2),\n",
        "    Conv2D(128, (3, 3), activation='relu'),\n",
        "    MaxPooling2D(2, 2),\n",
        "    Conv2D(128, (3, 3), activation='relu'),\n",
        "    MaxPooling2D(2, 2),\n",
        "    Flatten(),\n",
        "    Dense(512, activation='relu'),\n",
        "    Dense(1, activation='sigmoid')\n",
        "])\n",
        "\n",
        "model.compile(loss='binary_crossentropy',\n",
        "              optimizer='adam',\n",
        "              metrics=['accuracy'])\n"
      ],
      "metadata": {
        "execution": {
          "iopub.status.busy": "2023-10-17T01:28:18.082956Z",
          "iopub.execute_input": "2023-10-17T01:28:18.083437Z",
          "iopub.status.idle": "2023-10-17T01:28:18.422274Z",
          "shell.execute_reply.started": "2023-10-17T01:28:18.083397Z",
          "shell.execute_reply": "2023-10-17T01:28:18.421092Z"
        },
        "trusted": true,
        "id": "Hfeh_boIKa9e"
      },
      "execution_count": null,
      "outputs": []
    },
    {
      "cell_type": "code",
      "source": [
        "model.fit(\n",
        "    train_generator,\n",
        "    steps_per_epoch=len(train_generator),\n",
        "    epochs=15,\n",
        "    validation_data=validation_generator,\n",
        "    validation_steps=len(validation_generator)\n",
        ")"
      ],
      "metadata": {
        "execution": {
          "iopub.status.busy": "2023-10-17T01:29:30.212137Z",
          "iopub.execute_input": "2023-10-17T01:29:30.212513Z",
          "iopub.status.idle": "2023-10-17T02:18:12.829144Z",
          "shell.execute_reply.started": "2023-10-17T01:29:30.212482Z",
          "shell.execute_reply": "2023-10-17T02:18:12.827998Z"
        },
        "trusted": true,
        "id": "_Y0OU8p_Ka9f",
        "outputId": "c8673c9f-1cce-4db8-dbca-76a3e6354a48"
      },
      "execution_count": null,
      "outputs": [
        {
          "name": "stdout",
          "text": "Epoch 1/15\n163/163 [==============================] - 169s 1s/step - loss: 0.1638 - accuracy: 0.9342 - val_loss: 0.6772 - val_accuracy: 0.7500\nEpoch 2/15\n163/163 [==============================] - 167s 1s/step - loss: 0.1170 - accuracy: 0.9548 - val_loss: 0.1476 - val_accuracy: 0.9375\nEpoch 3/15\n163/163 [==============================] - 166s 1s/step - loss: 0.0880 - accuracy: 0.9661 - val_loss: 0.1872 - val_accuracy: 0.9375\nEpoch 4/15\n163/163 [==============================] - 165s 1s/step - loss: 0.0758 - accuracy: 0.9707 - val_loss: 0.1412 - val_accuracy: 0.9375\nEpoch 5/15\n163/163 [==============================] - 166s 1s/step - loss: 0.0624 - accuracy: 0.9768 - val_loss: 0.0595 - val_accuracy: 1.0000\nEpoch 6/15\n163/163 [==============================] - 167s 1s/step - loss: 0.0515 - accuracy: 0.9801 - val_loss: 0.3560 - val_accuracy: 0.7500\nEpoch 7/15\n163/163 [==============================] - 166s 1s/step - loss: 0.0397 - accuracy: 0.9850 - val_loss: 0.2784 - val_accuracy: 0.7500\nEpoch 8/15\n163/163 [==============================] - 165s 1s/step - loss: 0.0386 - accuracy: 0.9856 - val_loss: 0.0314 - val_accuracy: 1.0000\nEpoch 9/15\n163/163 [==============================] - 166s 1s/step - loss: 0.0350 - accuracy: 0.9883 - val_loss: 0.0754 - val_accuracy: 1.0000\nEpoch 10/15\n163/163 [==============================] - 167s 1s/step - loss: 0.0291 - accuracy: 0.9906 - val_loss: 0.1111 - val_accuracy: 0.9375\nEpoch 11/15\n163/163 [==============================] - 166s 1s/step - loss: 0.0202 - accuracy: 0.9929 - val_loss: 0.2213 - val_accuracy: 0.8750\nEpoch 12/15\n163/163 [==============================] - 167s 1s/step - loss: 0.0098 - accuracy: 0.9964 - val_loss: 0.0032 - val_accuracy: 1.0000\nEpoch 13/15\n163/163 [==============================] - 165s 1s/step - loss: 0.0308 - accuracy: 0.9895 - val_loss: 0.0646 - val_accuracy: 1.0000\nEpoch 14/15\n163/163 [==============================] - 166s 1s/step - loss: 0.0150 - accuracy: 0.9948 - val_loss: 0.0519 - val_accuracy: 1.0000\nEpoch 15/15\n163/163 [==============================] - 166s 1s/step - loss: 0.0164 - accuracy: 0.9935 - val_loss: 0.1904 - val_accuracy: 0.9375\n",
          "output_type": "stream"
        },
        {
          "execution_count": 5,
          "output_type": "execute_result",
          "data": {
            "text/plain": "<keras.callbacks.History at 0x7b2d487520e0>"
          },
          "metadata": {}
        }
      ]
    },
    {
      "cell_type": "code",
      "source": [
        "test_generator = test_datagen.flow_from_directory(\n",
        "    '/kaggle/input/chest-xray-pneumonia/chest_xray/test',\n",
        "    target_size=(150, 150),\n",
        "    batch_size=1,\n",
        "    class_mode='binary',\n",
        "    shuffle=False\n",
        ")\n",
        "\n",
        "accuracy = model.evaluate(test_generator)\n",
        "print(\"Test Accuracy:\", accuracy[1])"
      ],
      "metadata": {
        "execution": {
          "iopub.status.busy": "2023-10-17T02:18:19.650695Z",
          "iopub.execute_input": "2023-10-17T02:18:19.651055Z",
          "iopub.status.idle": "2023-10-17T02:18:31.563065Z",
          "shell.execute_reply.started": "2023-10-17T02:18:19.651026Z",
          "shell.execute_reply": "2023-10-17T02:18:31.562283Z"
        },
        "trusted": true,
        "id": "s64XEk3oKa9f",
        "outputId": "6a234f19-6ee2-41b9-bc2e-1a192d29a170"
      },
      "execution_count": null,
      "outputs": [
        {
          "name": "stdout",
          "text": "Found 624 images belonging to 2 classes.\n624/624 [==============================] - 12s 19ms/step - loss: 2.1720 - accuracy: 0.7628\nTest Accuracy: 0.7628205418586731\n",
          "output_type": "stream"
        }
      ]
    }
  ]
}